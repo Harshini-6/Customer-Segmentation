{
 "cells": [
  {
   "cell_type": "code",
   "execution_count": 1,
   "id": "5a4d3ace",
   "metadata": {},
   "outputs": [],
   "source": [
    "import pandas as pd\n",
    "import streamlit as st\n",
    "import joblib"
   ]
  },
  {
   "cell_type": "code",
   "execution_count": 2,
   "id": "ba183790",
   "metadata": {},
   "outputs": [],
   "source": [
    "# Load the online retail dataset\n",
    "data = pd.read_excel(\"online_retail_II.xlsx\")"
   ]
  },
  {
   "cell_type": "code",
   "execution_count": 3,
   "id": "7bbe2b28",
   "metadata": {},
   "outputs": [],
   "source": [
    "# Load the pre-trained clustering model\n",
    "model = joblib.load(\"clustering_model.pkl\")"
   ]
  },
  {
   "cell_type": "code",
   "execution_count": 4,
   "id": "7930e623",
   "metadata": {},
   "outputs": [],
   "source": [
    "# Select the features used for clustering\n",
    "features = [\"Quantity\", \"UnitPrice\", \"CustomerID\"]"
   ]
  },
  {
   "cell_type": "code",
   "execution_count": 5,
   "id": "978b48c0",
   "metadata": {},
   "outputs": [],
   "source": [
    "\n",
    "# Define a function to predict the cluster for a given row\n",
    "def predict_cluster(row):\n",
    "    X = row[features].values.reshape(1, -1)\n",
    "    cluster = model.predict(X)[0]\n",
    "    return cluster"
   ]
  },
  {
   "cell_type": "code",
   "execution_count": 6,
   "id": "22df262a",
   "metadata": {},
   "outputs": [],
   "source": [
    "# Define the Streamlit app\n",
    "def app():\n",
    "    # Add a file uploader to select a row from the dataset\n",
    "    file = st.file_uploader(\"Upload a CSV file\", type=\"csv\")\n",
    "    if file is not None:\n",
    "        data = pd.read_csv(file)\n",
    "\n",
    "        # Add a dropdown menu to select a row from the dataset\n",
    "        selected_row = st.selectbox(\"Select a row\", data.index)\n",
    "\n",
    "        # Get the selected row and predict its cluster\n",
    "        row = data.loc[selected_row]\n",
    "        cluster = predict_cluster(row)\n",
    "\n",
    "        # Display the predicted cluster\n",
    "        st.write(f\"The selected row belongs to cluster {cluster}\")"
   ]
  },
  {
   "cell_type": "code",
   "execution_count": null,
   "id": "c4c674f3",
   "metadata": {},
   "outputs": [],
   "source": []
  }
 ],
 "metadata": {
  "kernelspec": {
   "display_name": "Python 3 (ipykernel)",
   "language": "python",
   "name": "python3"
  },
  "language_info": {
   "codemirror_mode": {
    "name": "ipython",
    "version": 3
   },
   "file_extension": ".py",
   "mimetype": "text/x-python",
   "name": "python",
   "nbconvert_exporter": "python",
   "pygments_lexer": "ipython3",
   "version": "3.9.7"
  }
 },
 "nbformat": 4,
 "nbformat_minor": 5
}
